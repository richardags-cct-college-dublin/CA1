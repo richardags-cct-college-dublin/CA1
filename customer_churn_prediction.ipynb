{
 "cells": [
  {
   "cell_type": "markdown",
   "id": "93615af0",
   "metadata": {},
   "source": [
    "# Reading Dataset File"
   ]
  },
  {
   "cell_type": "code",
   "execution_count": null,
   "id": "70c90eb6",
   "metadata": {},
   "outputs": [],
   "source": [
    "# Import the Pandas library, which is a powerful data manipulation tool.\n",
    "\n",
    "import pandas as pd"
   ]
  },
  {
   "cell_type": "code",
   "execution_count": null,
   "id": "ff310e71",
   "metadata": {},
   "outputs": [],
   "source": [
    "# We use the 'read_csv' function from Pandas to read a dataset file in CSV format.\n",
    "\n",
    "df = pd.read_csv('dataset.csv')"
   ]
  },
  {
   "cell_type": "markdown",
   "id": "40514582",
   "metadata": {},
   "source": [
    "# Early/Exploratory Data Analysis - EDA"
   ]
  },
  {
   "cell_type": "code",
   "execution_count": null,
   "id": "fd9e43b3",
   "metadata": {},
   "outputs": [],
   "source": [
    "# Use the 'head()' method display the first few rows of the dataset to get an initial overview.\n",
    "df.head()"
   ]
  },
  {
   "cell_type": "code",
   "execution_count": null,
   "id": "74a841a1",
   "metadata": {},
   "outputs": [],
   "source": [
    "# Use the 'tail()' method to display the last few rows of the dataset.\n",
    "# This helps to check the bottom rows of the dataset for any patterns or anomalies.\n",
    "df.tail()"
   ]
  },
  {
   "cell_type": "code",
   "execution_count": null,
   "id": "78a05355",
   "metadata": {},
   "outputs": [],
   "source": [
    "# The 'shape' attribute of a DataFrame provides the dimensions of the dataset.\n",
    "# It returns a tuple where the first element is the number of rows and the second is the number of columns.\n",
    "dataframe_shape = df.shape\n",
    "\n",
    "# Print the shape of the dataset to see how many rows and columns it contains.\n",
    "print(\"Dataframe shape:\")\n",
    "print(\"(rows, columns)\")\n",
    "print(dataframe_shape)"
   ]
  },
  {
   "cell_type": "code",
   "execution_count": null,
   "id": "65b08324",
   "metadata": {},
   "outputs": [],
   "source": [
    "# The 'info()' method provides a concise summary of the dataset's structure and attributes.\n",
    "data.info()"
   ]
  },
  {
   "cell_type": "markdown",
   "id": "279f0f00",
   "metadata": {},
   "source": [
    "# "
   ]
  }
 ],
 "metadata": {
  "kernelspec": {
   "display_name": "Python 3 (ipykernel)",
   "language": "python",
   "name": "python3"
  },
  "language_info": {
   "codemirror_mode": {
    "name": "ipython",
    "version": 3
   },
   "file_extension": ".py",
   "mimetype": "text/x-python",
   "name": "python",
   "nbconvert_exporter": "python",
   "pygments_lexer": "ipython3",
   "version": "3.11.5"
  }
 },
 "nbformat": 4,
 "nbformat_minor": 5
}
