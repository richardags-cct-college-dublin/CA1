{
 "cells": [
  {
   "cell_type": "markdown",
   "id": "908c946d",
   "metadata": {},
   "source": [
    "# Reading Dataset File"
   ]
  },
  {
   "cell_type": "code",
   "execution_count": null,
   "id": "a8c51be6",
   "metadata": {},
   "outputs": [],
   "source": [
    "# Import the Pandas library, which is a powerful data manipulation tool.\n",
    "\n",
    "import pandas as pd"
   ]
  },
  {
   "cell_type": "code",
   "execution_count": null,
   "id": "7e5e4a9f",
   "metadata": {},
   "outputs": [],
   "source": [
    "# We use the 'read_csv' function from Pandas to read a dataset file in CSV format.\n",
    "\n",
    "df = pd.read_csv('dataset.csv')"
   ]
  },
  {
   "cell_type": "markdown",
   "id": "f437d632",
   "metadata": {},
   "source": [
    "# "
   ]
  },
  {
   "cell_type": "code",
   "execution_count": null,
   "id": "62c74368",
   "metadata": {},
   "outputs": [],
   "source": [
    "# The 'head()' method display the first few rows of the dataset to get an initial overview.\n",
    "\n",
    "data.head()"
   ]
  },
  {
   "cell_type": "markdown",
   "id": "62e8be35",
   "metadata": {},
   "source": [
    "# Early Data Analysis"
   ]
  },
  {
   "cell_type": "code",
   "execution_count": null,
   "id": "f3269399",
   "metadata": {},
   "outputs": [],
   "source": []
  },
  {
   "cell_type": "code",
   "execution_count": null,
   "id": "8747f68e",
   "metadata": {},
   "outputs": [],
   "source": []
  }
 ],
 "metadata": {
  "kernelspec": {
   "display_name": "Python 3 (ipykernel)",
   "language": "python",
   "name": "python3"
  },
  "language_info": {
   "codemirror_mode": {
    "name": "ipython",
    "version": 3
   },
   "file_extension": ".py",
   "mimetype": "text/x-python",
   "name": "python",
   "nbconvert_exporter": "python",
   "pygments_lexer": "ipython3",
   "version": "3.11.5"
  }
 },
 "nbformat": 4,
 "nbformat_minor": 5
}
